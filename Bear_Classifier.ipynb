{
  "nbformat": 4,
  "nbformat_minor": 0,
  "metadata": {
    "colab": {
      "provenance": [],
      "authorship_tag": "ABX9TyMWYCjbE7gcUm4yWRCYJ7Ce",
      "include_colab_link": true
    },
    "kernelspec": {
      "name": "python3",
      "display_name": "Python 3"
    },
    "language_info": {
      "name": "python"
    },
    "widgets": {
      "application/vnd.jupyter.widget-state+json": {
        "68095baa55a7408bb963cf3f1052d401": {
          "model_module": "@jupyter-widgets/controls",
          "model_name": "ButtonModel",
          "model_module_version": "1.5.0",
          "state": {
            "_dom_classes": [],
            "_model_module": "@jupyter-widgets/controls",
            "_model_module_version": "1.5.0",
            "_model_name": "ButtonModel",
            "_view_count": null,
            "_view_module": "@jupyter-widgets/controls",
            "_view_module_version": "1.5.0",
            "_view_name": "ButtonView",
            "button_style": "",
            "description": "Classify",
            "disabled": false,
            "icon": "",
            "layout": "IPY_MODEL_2465628d166b4bab95f0e80114dae63d",
            "style": "IPY_MODEL_c31e8fc3542b4f9197512647c4295e5e",
            "tooltip": ""
          }
        },
        "2465628d166b4bab95f0e80114dae63d": {
          "model_module": "@jupyter-widgets/base",
          "model_name": "LayoutModel",
          "model_module_version": "1.2.0",
          "state": {
            "_model_module": "@jupyter-widgets/base",
            "_model_module_version": "1.2.0",
            "_model_name": "LayoutModel",
            "_view_count": null,
            "_view_module": "@jupyter-widgets/base",
            "_view_module_version": "1.2.0",
            "_view_name": "LayoutView",
            "align_content": null,
            "align_items": null,
            "align_self": null,
            "border": null,
            "bottom": null,
            "display": null,
            "flex": null,
            "flex_flow": null,
            "grid_area": null,
            "grid_auto_columns": null,
            "grid_auto_flow": null,
            "grid_auto_rows": null,
            "grid_column": null,
            "grid_gap": null,
            "grid_row": null,
            "grid_template_areas": null,
            "grid_template_columns": null,
            "grid_template_rows": null,
            "height": null,
            "justify_content": null,
            "justify_items": null,
            "left": null,
            "margin": null,
            "max_height": null,
            "max_width": null,
            "min_height": null,
            "min_width": null,
            "object_fit": null,
            "object_position": null,
            "order": null,
            "overflow": null,
            "overflow_x": null,
            "overflow_y": null,
            "padding": null,
            "right": null,
            "top": null,
            "visibility": null,
            "width": null
          }
        },
        "c31e8fc3542b4f9197512647c4295e5e": {
          "model_module": "@jupyter-widgets/controls",
          "model_name": "ButtonStyleModel",
          "model_module_version": "1.5.0",
          "state": {
            "_model_module": "@jupyter-widgets/controls",
            "_model_module_version": "1.5.0",
            "_model_name": "ButtonStyleModel",
            "_view_count": null,
            "_view_module": "@jupyter-widgets/base",
            "_view_module_version": "1.2.0",
            "_view_name": "StyleView",
            "button_color": null,
            "font_weight": ""
          }
        },
        "6305eea69dec4be684dec5603c6796c0": {
          "model_module": "@jupyter-widgets/controls",
          "model_name": "VBoxModel",
          "model_module_version": "1.5.0",
          "state": {
            "_dom_classes": [],
            "_model_module": "@jupyter-widgets/controls",
            "_model_module_version": "1.5.0",
            "_model_name": "VBoxModel",
            "_view_count": null,
            "_view_module": "@jupyter-widgets/controls",
            "_view_module_version": "1.5.0",
            "_view_name": "VBoxView",
            "box_style": "",
            "children": [
              "IPY_MODEL_e6bbc5a25c944b1ea5363c7a8dc1f13a",
              "IPY_MODEL_8adb5f4d0f5e4c079636cfefd8fa0b3b",
              "IPY_MODEL_68095baa55a7408bb963cf3f1052d401",
              "IPY_MODEL_a80824a0106746168ebefe4a874d461a",
              "IPY_MODEL_0b7effc0daca4a709239b1b2e17d1c2d"
            ],
            "layout": "IPY_MODEL_13baf4bb89a04e4995d90699a267bc2f"
          }
        },
        "e6bbc5a25c944b1ea5363c7a8dc1f13a": {
          "model_module": "@jupyter-widgets/controls",
          "model_name": "LabelModel",
          "model_module_version": "1.5.0",
          "state": {
            "_dom_classes": [],
            "_model_module": "@jupyter-widgets/controls",
            "_model_module_version": "1.5.0",
            "_model_name": "LabelModel",
            "_view_count": null,
            "_view_module": "@jupyter-widgets/controls",
            "_view_module_version": "1.5.0",
            "_view_name": "LabelView",
            "description": "",
            "description_tooltip": null,
            "layout": "IPY_MODEL_c7da0da2527c49f0969d0e43d115470e",
            "placeholder": "​",
            "style": "IPY_MODEL_c9b0f30d23fa46dc83171512165a99f2",
            "value": "Select your bear!"
          }
        },
        "8adb5f4d0f5e4c079636cfefd8fa0b3b": {
          "model_module": "@jupyter-widgets/controls",
          "model_name": "FileUploadModel",
          "model_module_version": "1.5.0",
          "state": {
            "_counter": 4,
            "_dom_classes": [],
            "_model_module": "@jupyter-widgets/controls",
            "_model_module_version": "1.5.0",
            "_model_name": "FileUploadModel",
            "_view_count": null,
            "_view_module": "@jupyter-widgets/controls",
            "_view_module_version": "1.5.0",
            "_view_name": "FileUploadView",
            "accept": "",
            "button_style": "",
            "data": [
              null
            ],
            "description": "Upload",
            "description_tooltip": null,
            "disabled": false,
            "error": "",
            "icon": "upload",
            "layout": "IPY_MODEL_e5963ef8d3514a6fa8650afd0e3f6f2b",
            "metadata": [
              {
                "name": "black-bear.PNG",
                "type": "image/png",
                "size": 146685,
                "lastModified": 1727726603046
              }
            ],
            "multiple": false,
            "style": "IPY_MODEL_d5c643df5d034eeabe2ebaa4c91f15f6"
          }
        },
        "a80824a0106746168ebefe4a874d461a": {
          "model_module": "@jupyter-widgets/output",
          "model_name": "OutputModel",
          "model_module_version": "1.0.0",
          "state": {
            "_dom_classes": [],
            "_model_module": "@jupyter-widgets/output",
            "_model_module_version": "1.0.0",
            "_model_name": "OutputModel",
            "_view_count": null,
            "_view_module": "@jupyter-widgets/output",
            "_view_module_version": "1.0.0",
            "_view_name": "OutputView",
            "layout": "IPY_MODEL_7ad16f6e900a4bffb2995db52cabe4ef",
            "msg_id": "",
            "outputs": [
              {
                "output_type": "display_data",
                "data": {
                  "text/plain": "<PIL.Image.Image image mode=RGB size=128x109>",
                  "image/png": "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\n",
                  "image/jpeg": "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\n"
                },
                "metadata": {}
              }
            ]
          }
        },
        "0b7effc0daca4a709239b1b2e17d1c2d": {
          "model_module": "@jupyter-widgets/controls",
          "model_name": "LabelModel",
          "model_module_version": "1.5.0",
          "state": {
            "_dom_classes": [],
            "_model_module": "@jupyter-widgets/controls",
            "_model_module_version": "1.5.0",
            "_model_name": "LabelModel",
            "_view_count": null,
            "_view_module": "@jupyter-widgets/controls",
            "_view_module_version": "1.5.0",
            "_view_name": "LabelView",
            "description": "",
            "description_tooltip": null,
            "layout": "IPY_MODEL_6b9a5203d5ac4d87aa6763915e13c518",
            "placeholder": "​",
            "style": "IPY_MODEL_2e3fbde9954a4ab4ad227841d112aa12",
            "value": "Prediction: black; Probability: 0.9706"
          }
        },
        "13baf4bb89a04e4995d90699a267bc2f": {
          "model_module": "@jupyter-widgets/base",
          "model_name": "LayoutModel",
          "model_module_version": "1.2.0",
          "state": {
            "_model_module": "@jupyter-widgets/base",
            "_model_module_version": "1.2.0",
            "_model_name": "LayoutModel",
            "_view_count": null,
            "_view_module": "@jupyter-widgets/base",
            "_view_module_version": "1.2.0",
            "_view_name": "LayoutView",
            "align_content": null,
            "align_items": null,
            "align_self": null,
            "border": null,
            "bottom": null,
            "display": null,
            "flex": null,
            "flex_flow": null,
            "grid_area": null,
            "grid_auto_columns": null,
            "grid_auto_flow": null,
            "grid_auto_rows": null,
            "grid_column": null,
            "grid_gap": null,
            "grid_row": null,
            "grid_template_areas": null,
            "grid_template_columns": null,
            "grid_template_rows": null,
            "height": null,
            "justify_content": null,
            "justify_items": null,
            "left": null,
            "margin": null,
            "max_height": null,
            "max_width": null,
            "min_height": null,
            "min_width": null,
            "object_fit": null,
            "object_position": null,
            "order": null,
            "overflow": null,
            "overflow_x": null,
            "overflow_y": null,
            "padding": null,
            "right": null,
            "top": null,
            "visibility": null,
            "width": null
          }
        },
        "c7da0da2527c49f0969d0e43d115470e": {
          "model_module": "@jupyter-widgets/base",
          "model_name": "LayoutModel",
          "model_module_version": "1.2.0",
          "state": {
            "_model_module": "@jupyter-widgets/base",
            "_model_module_version": "1.2.0",
            "_model_name": "LayoutModel",
            "_view_count": null,
            "_view_module": "@jupyter-widgets/base",
            "_view_module_version": "1.2.0",
            "_view_name": "LayoutView",
            "align_content": null,
            "align_items": null,
            "align_self": null,
            "border": null,
            "bottom": null,
            "display": null,
            "flex": null,
            "flex_flow": null,
            "grid_area": null,
            "grid_auto_columns": null,
            "grid_auto_flow": null,
            "grid_auto_rows": null,
            "grid_column": null,
            "grid_gap": null,
            "grid_row": null,
            "grid_template_areas": null,
            "grid_template_columns": null,
            "grid_template_rows": null,
            "height": null,
            "justify_content": null,
            "justify_items": null,
            "left": null,
            "margin": null,
            "max_height": null,
            "max_width": null,
            "min_height": null,
            "min_width": null,
            "object_fit": null,
            "object_position": null,
            "order": null,
            "overflow": null,
            "overflow_x": null,
            "overflow_y": null,
            "padding": null,
            "right": null,
            "top": null,
            "visibility": null,
            "width": null
          }
        },
        "c9b0f30d23fa46dc83171512165a99f2": {
          "model_module": "@jupyter-widgets/controls",
          "model_name": "DescriptionStyleModel",
          "model_module_version": "1.5.0",
          "state": {
            "_model_module": "@jupyter-widgets/controls",
            "_model_module_version": "1.5.0",
            "_model_name": "DescriptionStyleModel",
            "_view_count": null,
            "_view_module": "@jupyter-widgets/base",
            "_view_module_version": "1.2.0",
            "_view_name": "StyleView",
            "description_width": ""
          }
        },
        "e5963ef8d3514a6fa8650afd0e3f6f2b": {
          "model_module": "@jupyter-widgets/base",
          "model_name": "LayoutModel",
          "model_module_version": "1.2.0",
          "state": {
            "_model_module": "@jupyter-widgets/base",
            "_model_module_version": "1.2.0",
            "_model_name": "LayoutModel",
            "_view_count": null,
            "_view_module": "@jupyter-widgets/base",
            "_view_module_version": "1.2.0",
            "_view_name": "LayoutView",
            "align_content": null,
            "align_items": null,
            "align_self": null,
            "border": null,
            "bottom": null,
            "display": null,
            "flex": null,
            "flex_flow": null,
            "grid_area": null,
            "grid_auto_columns": null,
            "grid_auto_flow": null,
            "grid_auto_rows": null,
            "grid_column": null,
            "grid_gap": null,
            "grid_row": null,
            "grid_template_areas": null,
            "grid_template_columns": null,
            "grid_template_rows": null,
            "height": null,
            "justify_content": null,
            "justify_items": null,
            "left": null,
            "margin": null,
            "max_height": null,
            "max_width": null,
            "min_height": null,
            "min_width": null,
            "object_fit": null,
            "object_position": null,
            "order": null,
            "overflow": null,
            "overflow_x": null,
            "overflow_y": null,
            "padding": null,
            "right": null,
            "top": null,
            "visibility": null,
            "width": null
          }
        },
        "d5c643df5d034eeabe2ebaa4c91f15f6": {
          "model_module": "@jupyter-widgets/controls",
          "model_name": "ButtonStyleModel",
          "model_module_version": "1.5.0",
          "state": {
            "_model_module": "@jupyter-widgets/controls",
            "_model_module_version": "1.5.0",
            "_model_name": "ButtonStyleModel",
            "_view_count": null,
            "_view_module": "@jupyter-widgets/base",
            "_view_module_version": "1.2.0",
            "_view_name": "StyleView",
            "button_color": null,
            "font_weight": ""
          }
        },
        "6b9a5203d5ac4d87aa6763915e13c518": {
          "model_module": "@jupyter-widgets/base",
          "model_name": "LayoutModel",
          "model_module_version": "1.2.0",
          "state": {
            "_model_module": "@jupyter-widgets/base",
            "_model_module_version": "1.2.0",
            "_model_name": "LayoutModel",
            "_view_count": null,
            "_view_module": "@jupyter-widgets/base",
            "_view_module_version": "1.2.0",
            "_view_name": "LayoutView",
            "align_content": null,
            "align_items": null,
            "align_self": null,
            "border": null,
            "bottom": null,
            "display": null,
            "flex": null,
            "flex_flow": null,
            "grid_area": null,
            "grid_auto_columns": null,
            "grid_auto_flow": null,
            "grid_auto_rows": null,
            "grid_column": null,
            "grid_gap": null,
            "grid_row": null,
            "grid_template_areas": null,
            "grid_template_columns": null,
            "grid_template_rows": null,
            "height": null,
            "justify_content": null,
            "justify_items": null,
            "left": null,
            "margin": null,
            "max_height": null,
            "max_width": null,
            "min_height": null,
            "min_width": null,
            "object_fit": null,
            "object_position": null,
            "order": null,
            "overflow": null,
            "overflow_x": null,
            "overflow_y": null,
            "padding": null,
            "right": null,
            "top": null,
            "visibility": null,
            "width": null
          }
        },
        "2e3fbde9954a4ab4ad227841d112aa12": {
          "model_module": "@jupyter-widgets/controls",
          "model_name": "DescriptionStyleModel",
          "model_module_version": "1.5.0",
          "state": {
            "_model_module": "@jupyter-widgets/controls",
            "_model_module_version": "1.5.0",
            "_model_name": "DescriptionStyleModel",
            "_view_count": null,
            "_view_module": "@jupyter-widgets/base",
            "_view_module_version": "1.2.0",
            "_view_name": "StyleView",
            "description_width": ""
          }
        },
        "7ad16f6e900a4bffb2995db52cabe4ef": {
          "model_module": "@jupyter-widgets/base",
          "model_name": "LayoutModel",
          "model_module_version": "1.2.0",
          "state": {
            "_model_module": "@jupyter-widgets/base",
            "_model_module_version": "1.2.0",
            "_model_name": "LayoutModel",
            "_view_count": null,
            "_view_module": "@jupyter-widgets/base",
            "_view_module_version": "1.2.0",
            "_view_name": "LayoutView",
            "align_content": null,
            "align_items": null,
            "align_self": null,
            "border": null,
            "bottom": null,
            "display": null,
            "flex": null,
            "flex_flow": null,
            "grid_area": null,
            "grid_auto_columns": null,
            "grid_auto_flow": null,
            "grid_auto_rows": null,
            "grid_column": null,
            "grid_gap": null,
            "grid_row": null,
            "grid_template_areas": null,
            "grid_template_columns": null,
            "grid_template_rows": null,
            "height": null,
            "justify_content": null,
            "justify_items": null,
            "left": null,
            "margin": null,
            "max_height": null,
            "max_width": null,
            "min_height": null,
            "min_width": null,
            "object_fit": null,
            "object_position": null,
            "order": null,
            "overflow": null,
            "overflow_x": null,
            "overflow_y": null,
            "padding": null,
            "right": null,
            "top": null,
            "visibility": null,
            "width": null
          }
        }
      }
    }
  },
  "cells": [
    {
      "cell_type": "markdown",
      "metadata": {
        "id": "view-in-github",
        "colab_type": "text"
      },
      "source": [
        "<a href=\"https://colab.research.google.com/github/timcox610/Bear-Classifier/blob/main/Bear_Classifier.ipynb\" target=\"_parent\"><img src=\"https://colab.research.google.com/assets/colab-badge.svg\" alt=\"Open In Colab\"/></a>"
      ]
    },
    {
      "cell_type": "code",
      "source": [
        "!pip install -Uqq fastbook\n",
        "from fastbook import *\n",
        "setup_book()"
      ],
      "metadata": {
        "colab": {
          "base_uri": "https://localhost:8080/"
        },
        "id": "mvd8V3Dv3p6q",
        "outputId": "85ca073b-ec2f-4319-e695-0da97173ef65"
      },
      "execution_count": 2,
      "outputs": [
        {
          "output_type": "stream",
          "name": "stdout",
          "text": [
            "\u001b[2K   \u001b[90m━━━━━━━━━━━━━━━━━━━━━━━━━━━━━━━━━━━━━━━━\u001b[0m \u001b[32m719.8/719.8 kB\u001b[0m \u001b[31m4.4 MB/s\u001b[0m eta \u001b[36m0:00:00\u001b[0m\n",
            "\u001b[2K   \u001b[90m━━━━━━━━━━━━━━━━━━━━━━━━━━━━━━━━━━━━━━━━\u001b[0m \u001b[32m471.6/471.6 kB\u001b[0m \u001b[31m22.1 MB/s\u001b[0m eta \u001b[36m0:00:00\u001b[0m\n",
            "\u001b[2K   \u001b[90m━━━━━━━━━━━━━━━━━━━━━━━━━━━━━━━━━━━━━━━━\u001b[0m \u001b[32m116.3/116.3 kB\u001b[0m \u001b[31m7.8 MB/s\u001b[0m eta \u001b[36m0:00:00\u001b[0m\n",
            "\u001b[2K   \u001b[90m━━━━━━━━━━━━━━━━━━━━━━━━━━━━━━━━━━━━━━━━\u001b[0m \u001b[32m39.9/39.9 MB\u001b[0m \u001b[31m24.4 MB/s\u001b[0m eta \u001b[36m0:00:00\u001b[0m\n",
            "\u001b[2K   \u001b[90m━━━━━━━━━━━━━━━━━━━━━━━━━━━━━━━━━━━━━━━━\u001b[0m \u001b[32m134.8/134.8 kB\u001b[0m \u001b[31m9.5 MB/s\u001b[0m eta \u001b[36m0:00:00\u001b[0m\n",
            "\u001b[2K   \u001b[90m━━━━━━━━━━━━━━━━━━━━━━━━━━━━━━━━━━━━━━━━\u001b[0m \u001b[32m194.1/194.1 kB\u001b[0m \u001b[31m12.8 MB/s\u001b[0m eta \u001b[36m0:00:00\u001b[0m\n",
            "\u001b[2K   \u001b[90m━━━━━━━━━━━━━━━━━━━━━━━━━━━━━━━━━━━━━━━━\u001b[0m \u001b[32m133.5/133.5 kB\u001b[0m \u001b[31m9.8 MB/s\u001b[0m eta \u001b[36m0:00:00\u001b[0m\n",
            "\u001b[?25h\u001b[31mERROR: pip's dependency resolver does not currently take into account all the packages that are installed. This behaviour is the source of the following dependency conflicts.\n",
            "cudf-cu12 24.4.1 requires pyarrow<15.0.0a0,>=14.0.1, but you have pyarrow 17.0.0 which is incompatible.\u001b[0m\u001b[31m\n",
            "\u001b[0mMounted at /content/gdrive\n"
          ]
        }
      ]
    },
    {
      "cell_type": "code",
      "source": [
        "from fastbook import *\n",
        "from fastai.vision.widgets import *"
      ],
      "metadata": {
        "id": "gqdk8BCq3r3E"
      },
      "execution_count": 3,
      "outputs": []
    },
    {
      "cell_type": "code",
      "execution_count": 1,
      "metadata": {
        "id": "DDn9pY6xi8qs",
        "colab": {
          "base_uri": "https://localhost:8080/"
        },
        "outputId": "1cd72a5c-e5d6-4348-fba4-deceaa2145b7"
      },
      "outputs": [
        {
          "output_type": "stream",
          "name": "stdout",
          "text": [
            "Collecting voila\n",
            "  Downloading voila-0.5.7-py3-none-any.whl.metadata (9.1 kB)\n",
            "Collecting jupyter-client<9,>=7.4.4 (from voila)\n",
            "  Downloading jupyter_client-8.6.3-py3-none-any.whl.metadata (8.3 kB)\n",
            "Requirement already satisfied: jupyter-core>=4.11.0 in /usr/local/lib/python3.10/dist-packages (from voila) (5.7.2)\n",
            "Collecting jupyter-server<3,>=2.0.0 (from voila)\n",
            "  Downloading jupyter_server-2.14.2-py3-none-any.whl.metadata (8.4 kB)\n",
            "Collecting jupyterlab-server<3,>=2.3.0 (from voila)\n",
            "  Downloading jupyterlab_server-2.27.3-py3-none-any.whl.metadata (5.9 kB)\n",
            "Requirement already satisfied: nbclient>=0.4.0 in /usr/local/lib/python3.10/dist-packages (from voila) (0.10.0)\n",
            "Requirement already satisfied: nbconvert<8,>=6.4.5 in /usr/local/lib/python3.10/dist-packages (from voila) (6.5.4)\n",
            "Requirement already satisfied: traitlets<6,>=5.0.3 in /usr/local/lib/python3.10/dist-packages (from voila) (5.7.1)\n",
            "Collecting websockets>=9.0 (from voila)\n",
            "  Downloading websockets-13.1-cp310-cp310-manylinux_2_5_x86_64.manylinux1_x86_64.manylinux_2_17_x86_64.manylinux2014_x86_64.whl.metadata (6.8 kB)\n",
            "Requirement already satisfied: python-dateutil>=2.8.2 in /usr/local/lib/python3.10/dist-packages (from jupyter-client<9,>=7.4.4->voila) (2.8.2)\n",
            "Requirement already satisfied: pyzmq>=23.0 in /usr/local/lib/python3.10/dist-packages (from jupyter-client<9,>=7.4.4->voila) (24.0.1)\n",
            "Requirement already satisfied: tornado>=6.2 in /usr/local/lib/python3.10/dist-packages (from jupyter-client<9,>=7.4.4->voila) (6.3.3)\n",
            "Requirement already satisfied: platformdirs>=2.5 in /usr/local/lib/python3.10/dist-packages (from jupyter-core>=4.11.0->voila) (4.3.6)\n",
            "Requirement already satisfied: anyio>=3.1.0 in /usr/local/lib/python3.10/dist-packages (from jupyter-server<3,>=2.0.0->voila) (3.7.1)\n",
            "Requirement already satisfied: argon2-cffi>=21.1 in /usr/local/lib/python3.10/dist-packages (from jupyter-server<3,>=2.0.0->voila) (23.1.0)\n",
            "Requirement already satisfied: jinja2>=3.0.3 in /usr/local/lib/python3.10/dist-packages (from jupyter-server<3,>=2.0.0->voila) (3.1.4)\n",
            "Collecting jupyter-events>=0.9.0 (from jupyter-server<3,>=2.0.0->voila)\n",
            "  Downloading jupyter_events-0.10.0-py3-none-any.whl.metadata (5.9 kB)\n",
            "Collecting jupyter-server-terminals>=0.4.4 (from jupyter-server<3,>=2.0.0->voila)\n",
            "  Downloading jupyter_server_terminals-0.5.3-py3-none-any.whl.metadata (5.6 kB)\n",
            "Requirement already satisfied: nbformat>=5.3.0 in /usr/local/lib/python3.10/dist-packages (from jupyter-server<3,>=2.0.0->voila) (5.10.4)\n",
            "Collecting overrides>=5.0 (from jupyter-server<3,>=2.0.0->voila)\n",
            "  Downloading overrides-7.7.0-py3-none-any.whl.metadata (5.8 kB)\n",
            "Requirement already satisfied: packaging>=22.0 in /usr/local/lib/python3.10/dist-packages (from jupyter-server<3,>=2.0.0->voila) (24.1)\n",
            "Requirement already satisfied: prometheus-client>=0.9 in /usr/local/lib/python3.10/dist-packages (from jupyter-server<3,>=2.0.0->voila) (0.21.0)\n",
            "Requirement already satisfied: send2trash>=1.8.2 in /usr/local/lib/python3.10/dist-packages (from jupyter-server<3,>=2.0.0->voila) (1.8.3)\n",
            "Requirement already satisfied: terminado>=0.8.3 in /usr/local/lib/python3.10/dist-packages (from jupyter-server<3,>=2.0.0->voila) (0.18.1)\n",
            "Requirement already satisfied: websocket-client>=1.7 in /usr/local/lib/python3.10/dist-packages (from jupyter-server<3,>=2.0.0->voila) (1.8.0)\n",
            "Requirement already satisfied: babel>=2.10 in /usr/local/lib/python3.10/dist-packages (from jupyterlab-server<3,>=2.3.0->voila) (2.16.0)\n",
            "Collecting json5>=0.9.0 (from jupyterlab-server<3,>=2.3.0->voila)\n",
            "  Downloading json5-0.9.25-py3-none-any.whl.metadata (30 kB)\n",
            "Requirement already satisfied: jsonschema>=4.18.0 in /usr/local/lib/python3.10/dist-packages (from jupyterlab-server<3,>=2.3.0->voila) (4.23.0)\n",
            "Requirement already satisfied: requests>=2.31 in /usr/local/lib/python3.10/dist-packages (from jupyterlab-server<3,>=2.3.0->voila) (2.32.3)\n",
            "Requirement already satisfied: lxml in /usr/local/lib/python3.10/dist-packages (from nbconvert<8,>=6.4.5->voila) (4.9.4)\n",
            "Requirement already satisfied: beautifulsoup4 in /usr/local/lib/python3.10/dist-packages (from nbconvert<8,>=6.4.5->voila) (4.12.3)\n",
            "Requirement already satisfied: bleach in /usr/local/lib/python3.10/dist-packages (from nbconvert<8,>=6.4.5->voila) (6.1.0)\n",
            "Requirement already satisfied: defusedxml in /usr/local/lib/python3.10/dist-packages (from nbconvert<8,>=6.4.5->voila) (0.7.1)\n",
            "Requirement already satisfied: entrypoints>=0.2.2 in /usr/local/lib/python3.10/dist-packages (from nbconvert<8,>=6.4.5->voila) (0.4)\n",
            "Requirement already satisfied: jupyterlab-pygments in /usr/local/lib/python3.10/dist-packages (from nbconvert<8,>=6.4.5->voila) (0.3.0)\n",
            "Requirement already satisfied: MarkupSafe>=2.0 in /usr/local/lib/python3.10/dist-packages (from nbconvert<8,>=6.4.5->voila) (2.1.5)\n",
            "Requirement already satisfied: mistune<2,>=0.8.1 in /usr/local/lib/python3.10/dist-packages (from nbconvert<8,>=6.4.5->voila) (0.8.4)\n",
            "Requirement already satisfied: pandocfilters>=1.4.1 in /usr/local/lib/python3.10/dist-packages (from nbconvert<8,>=6.4.5->voila) (1.5.1)\n",
            "Requirement already satisfied: pygments>=2.4.1 in /usr/local/lib/python3.10/dist-packages (from nbconvert<8,>=6.4.5->voila) (2.18.0)\n",
            "Requirement already satisfied: tinycss2 in /usr/local/lib/python3.10/dist-packages (from nbconvert<8,>=6.4.5->voila) (1.3.0)\n",
            "Requirement already satisfied: idna>=2.8 in /usr/local/lib/python3.10/dist-packages (from anyio>=3.1.0->jupyter-server<3,>=2.0.0->voila) (3.10)\n",
            "Requirement already satisfied: sniffio>=1.1 in /usr/local/lib/python3.10/dist-packages (from anyio>=3.1.0->jupyter-server<3,>=2.0.0->voila) (1.3.1)\n",
            "Requirement already satisfied: exceptiongroup in /usr/local/lib/python3.10/dist-packages (from anyio>=3.1.0->jupyter-server<3,>=2.0.0->voila) (1.2.2)\n",
            "Requirement already satisfied: argon2-cffi-bindings in /usr/local/lib/python3.10/dist-packages (from argon2-cffi>=21.1->jupyter-server<3,>=2.0.0->voila) (21.2.0)\n",
            "Requirement already satisfied: attrs>=22.2.0 in /usr/local/lib/python3.10/dist-packages (from jsonschema>=4.18.0->jupyterlab-server<3,>=2.3.0->voila) (24.2.0)\n",
            "Requirement already satisfied: jsonschema-specifications>=2023.03.6 in /usr/local/lib/python3.10/dist-packages (from jsonschema>=4.18.0->jupyterlab-server<3,>=2.3.0->voila) (2023.12.1)\n",
            "Requirement already satisfied: referencing>=0.28.4 in /usr/local/lib/python3.10/dist-packages (from jsonschema>=4.18.0->jupyterlab-server<3,>=2.3.0->voila) (0.35.1)\n",
            "Requirement already satisfied: rpds-py>=0.7.1 in /usr/local/lib/python3.10/dist-packages (from jsonschema>=4.18.0->jupyterlab-server<3,>=2.3.0->voila) (0.20.0)\n",
            "Collecting python-json-logger>=2.0.4 (from jupyter-events>=0.9.0->jupyter-server<3,>=2.0.0->voila)\n",
            "  Downloading python_json_logger-2.0.7-py3-none-any.whl.metadata (6.5 kB)\n",
            "Requirement already satisfied: pyyaml>=5.3 in /usr/local/lib/python3.10/dist-packages (from jupyter-events>=0.9.0->jupyter-server<3,>=2.0.0->voila) (6.0.2)\n",
            "Collecting rfc3339-validator (from jupyter-events>=0.9.0->jupyter-server<3,>=2.0.0->voila)\n",
            "  Downloading rfc3339_validator-0.1.4-py2.py3-none-any.whl.metadata (1.5 kB)\n",
            "Collecting rfc3986-validator>=0.1.1 (from jupyter-events>=0.9.0->jupyter-server<3,>=2.0.0->voila)\n",
            "  Downloading rfc3986_validator-0.1.1-py2.py3-none-any.whl.metadata (1.7 kB)\n",
            "Requirement already satisfied: fastjsonschema>=2.15 in /usr/local/lib/python3.10/dist-packages (from nbformat>=5.3.0->jupyter-server<3,>=2.0.0->voila) (2.20.0)\n",
            "Requirement already satisfied: six>=1.5 in /usr/local/lib/python3.10/dist-packages (from python-dateutil>=2.8.2->jupyter-client<9,>=7.4.4->voila) (1.16.0)\n",
            "Requirement already satisfied: charset-normalizer<4,>=2 in /usr/local/lib/python3.10/dist-packages (from requests>=2.31->jupyterlab-server<3,>=2.3.0->voila) (3.3.2)\n",
            "Requirement already satisfied: urllib3<3,>=1.21.1 in /usr/local/lib/python3.10/dist-packages (from requests>=2.31->jupyterlab-server<3,>=2.3.0->voila) (2.2.3)\n",
            "Requirement already satisfied: certifi>=2017.4.17 in /usr/local/lib/python3.10/dist-packages (from requests>=2.31->jupyterlab-server<3,>=2.3.0->voila) (2024.8.30)\n",
            "Requirement already satisfied: ptyprocess in /usr/local/lib/python3.10/dist-packages (from terminado>=0.8.3->jupyter-server<3,>=2.0.0->voila) (0.7.0)\n",
            "Requirement already satisfied: soupsieve>1.2 in /usr/local/lib/python3.10/dist-packages (from beautifulsoup4->nbconvert<8,>=6.4.5->voila) (2.6)\n",
            "Requirement already satisfied: webencodings in /usr/local/lib/python3.10/dist-packages (from bleach->nbconvert<8,>=6.4.5->voila) (0.5.1)\n",
            "Collecting fqdn (from jsonschema[format-nongpl]>=4.18.0->jupyter-events>=0.9.0->jupyter-server<3,>=2.0.0->voila)\n",
            "  Downloading fqdn-1.5.1-py3-none-any.whl.metadata (1.4 kB)\n",
            "Collecting isoduration (from jsonschema[format-nongpl]>=4.18.0->jupyter-events>=0.9.0->jupyter-server<3,>=2.0.0->voila)\n",
            "  Downloading isoduration-20.11.0-py3-none-any.whl.metadata (5.7 kB)\n",
            "Collecting jsonpointer>1.13 (from jsonschema[format-nongpl]>=4.18.0->jupyter-events>=0.9.0->jupyter-server<3,>=2.0.0->voila)\n",
            "  Downloading jsonpointer-3.0.0-py2.py3-none-any.whl.metadata (2.3 kB)\n",
            "Collecting uri-template (from jsonschema[format-nongpl]>=4.18.0->jupyter-events>=0.9.0->jupyter-server<3,>=2.0.0->voila)\n",
            "  Downloading uri_template-1.3.0-py3-none-any.whl.metadata (8.8 kB)\n",
            "Requirement already satisfied: webcolors>=24.6.0 in /usr/local/lib/python3.10/dist-packages (from jsonschema[format-nongpl]>=4.18.0->jupyter-events>=0.9.0->jupyter-server<3,>=2.0.0->voila) (24.8.0)\n",
            "Requirement already satisfied: cffi>=1.0.1 in /usr/local/lib/python3.10/dist-packages (from argon2-cffi-bindings->argon2-cffi>=21.1->jupyter-server<3,>=2.0.0->voila) (1.17.1)\n",
            "Requirement already satisfied: pycparser in /usr/local/lib/python3.10/dist-packages (from cffi>=1.0.1->argon2-cffi-bindings->argon2-cffi>=21.1->jupyter-server<3,>=2.0.0->voila) (2.22)\n",
            "Collecting arrow>=0.15.0 (from isoduration->jsonschema[format-nongpl]>=4.18.0->jupyter-events>=0.9.0->jupyter-server<3,>=2.0.0->voila)\n",
            "  Downloading arrow-1.3.0-py3-none-any.whl.metadata (7.5 kB)\n",
            "Collecting types-python-dateutil>=2.8.10 (from arrow>=0.15.0->isoduration->jsonschema[format-nongpl]>=4.18.0->jupyter-events>=0.9.0->jupyter-server<3,>=2.0.0->voila)\n",
            "  Downloading types_python_dateutil-2.9.0.20240906-py3-none-any.whl.metadata (1.9 kB)\n",
            "Downloading voila-0.5.7-py3-none-any.whl (3.9 MB)\n",
            "\u001b[2K   \u001b[90m━━━━━━━━━━━━━━━━━━━━━━━━━━━━━━━━━━━━━━━━\u001b[0m \u001b[32m3.9/3.9 MB\u001b[0m \u001b[31m34.3 MB/s\u001b[0m eta \u001b[36m0:00:00\u001b[0m\n",
            "\u001b[?25hDownloading jupyter_client-8.6.3-py3-none-any.whl (106 kB)\n",
            "\u001b[2K   \u001b[90m━━━━━━━━━━━━━━━━━━━━━━━━━━━━━━━━━━━━━━━━\u001b[0m \u001b[32m106.1/106.1 kB\u001b[0m \u001b[31m6.2 MB/s\u001b[0m eta \u001b[36m0:00:00\u001b[0m\n",
            "\u001b[?25hDownloading jupyter_server-2.14.2-py3-none-any.whl (383 kB)\n",
            "\u001b[2K   \u001b[90m━━━━━━━━━━━━━━━━━━━━━━━━━━━━━━━━━━━━━━━━\u001b[0m \u001b[32m383.6/383.6 kB\u001b[0m \u001b[31m20.2 MB/s\u001b[0m eta \u001b[36m0:00:00\u001b[0m\n",
            "\u001b[?25hDownloading jupyterlab_server-2.27.3-py3-none-any.whl (59 kB)\n",
            "\u001b[2K   \u001b[90m━━━━━━━━━━━━━━━━━━━━━━━━━━━━━━━━━━━━━━━━\u001b[0m \u001b[32m59.7/59.7 kB\u001b[0m \u001b[31m3.4 MB/s\u001b[0m eta \u001b[36m0:00:00\u001b[0m\n",
            "\u001b[?25hDownloading websockets-13.1-cp310-cp310-manylinux_2_5_x86_64.manylinux1_x86_64.manylinux_2_17_x86_64.manylinux2014_x86_64.whl (164 kB)\n",
            "\u001b[2K   \u001b[90m━━━━━━━━━━━━━━━━━━━━━━━━━━━━━━━━━━━━━━━━\u001b[0m \u001b[32m164.1/164.1 kB\u001b[0m \u001b[31m7.6 MB/s\u001b[0m eta \u001b[36m0:00:00\u001b[0m\n",
            "\u001b[?25hDownloading json5-0.9.25-py3-none-any.whl (30 kB)\n",
            "Downloading jupyter_events-0.10.0-py3-none-any.whl (18 kB)\n",
            "Downloading jupyter_server_terminals-0.5.3-py3-none-any.whl (13 kB)\n",
            "Downloading overrides-7.7.0-py3-none-any.whl (17 kB)\n",
            "Downloading python_json_logger-2.0.7-py3-none-any.whl (8.1 kB)\n",
            "Downloading rfc3986_validator-0.1.1-py2.py3-none-any.whl (4.2 kB)\n",
            "Downloading rfc3339_validator-0.1.4-py2.py3-none-any.whl (3.5 kB)\n",
            "Downloading jsonpointer-3.0.0-py2.py3-none-any.whl (7.6 kB)\n",
            "Downloading fqdn-1.5.1-py3-none-any.whl (9.1 kB)\n",
            "Downloading isoduration-20.11.0-py3-none-any.whl (11 kB)\n",
            "Downloading uri_template-1.3.0-py3-none-any.whl (11 kB)\n",
            "Downloading arrow-1.3.0-py3-none-any.whl (66 kB)\n",
            "\u001b[2K   \u001b[90m━━━━━━━━━━━━━━━━━━━━━━━━━━━━━━━━━━━━━━━━\u001b[0m \u001b[32m66.4/66.4 kB\u001b[0m \u001b[31m3.8 MB/s\u001b[0m eta \u001b[36m0:00:00\u001b[0m\n",
            "\u001b[?25hDownloading types_python_dateutil-2.9.0.20240906-py3-none-any.whl (9.7 kB)\n",
            "Installing collected packages: websockets, uri-template, types-python-dateutil, rfc3986-validator, rfc3339-validator, python-json-logger, overrides, jsonpointer, json5, fqdn, jupyter-server-terminals, jupyter-client, arrow, isoduration, jupyter-events, jupyter-server, jupyterlab-server, voila\n",
            "  Attempting uninstall: jupyter-client\n",
            "    Found existing installation: jupyter-client 6.1.12\n",
            "    Uninstalling jupyter-client-6.1.12:\n",
            "      Successfully uninstalled jupyter-client-6.1.12\n",
            "  Attempting uninstall: jupyter-server\n",
            "    Found existing installation: jupyter-server 1.24.0\n",
            "    Uninstalling jupyter-server-1.24.0:\n",
            "      Successfully uninstalled jupyter-server-1.24.0\n",
            "\u001b[31mERROR: pip's dependency resolver does not currently take into account all the packages that are installed. This behaviour is the source of the following dependency conflicts.\n",
            "notebook 6.5.5 requires jupyter-client<8,>=5.3.4, but you have jupyter-client 8.6.3 which is incompatible.\u001b[0m\u001b[31m\n",
            "\u001b[0mSuccessfully installed arrow-1.3.0 fqdn-1.5.1 isoduration-20.11.0 json5-0.9.25 jsonpointer-3.0.0 jupyter-client-8.6.3 jupyter-events-0.10.0 jupyter-server-2.14.2 jupyter-server-terminals-0.5.3 jupyterlab-server-2.27.3 overrides-7.7.0 python-json-logger-2.0.7 rfc3339-validator-0.1.4 rfc3986-validator-0.1.1 types-python-dateutil-2.9.0.20240906 uri-template-1.3.0 voila-0.5.7 websockets-13.1\n",
            "Enabling: voila\n",
            "- Writing config: /usr/etc/jupyter\n",
            "    - Validating...\n",
            "      voila 0.5.7 \u001b[32mOK\u001b[0m\n"
          ]
        }
      ],
      "source": [
        "!pip install voila\n",
        "!jupyter serverextension enable --sys-prefix voila"
      ]
    },
    {
      "cell_type": "code",
      "source": [
        "learn_inf = load_learner('/content/gdrive/MyDrive/export.pkl')"
      ],
      "metadata": {
        "id": "9nZhIQpXBbf2"
      },
      "execution_count": 6,
      "outputs": []
    },
    {
      "cell_type": "code",
      "source": [
        "btn_run = widgets.Button(description='Classify')\n",
        "btn_run"
      ],
      "metadata": {
        "colab": {
          "base_uri": "https://localhost:8080/",
          "height": 49,
          "referenced_widgets": [
            "68095baa55a7408bb963cf3f1052d401",
            "2465628d166b4bab95f0e80114dae63d",
            "c31e8fc3542b4f9197512647c4295e5e"
          ]
        },
        "id": "5VH1IJG8Cs26",
        "outputId": "d06e1e4c-6dfe-4fd3-d0b0-f8e58add4e39"
      },
      "execution_count": 11,
      "outputs": [
        {
          "output_type": "display_data",
          "data": {
            "text/plain": [
              "Button(description='Classify', style=ButtonStyle())"
            ],
            "application/vnd.jupyter.widget-view+json": {
              "version_major": 2,
              "version_minor": 0,
              "model_id": "68095baa55a7408bb963cf3f1052d401"
            }
          },
          "metadata": {}
        }
      ]
    },
    {
      "cell_type": "code",
      "source": [
        "btn_upload = widgets.FileUpload()"
      ],
      "metadata": {
        "id": "kAc8Pl94DCv2"
      },
      "execution_count": 13,
      "outputs": []
    },
    {
      "cell_type": "code",
      "source": [
        "img = PILImage.create(btn_upload.data[-1])"
      ],
      "metadata": {
        "id": "v8_EvqD4ETEo"
      },
      "execution_count": 15,
      "outputs": []
    },
    {
      "cell_type": "code",
      "source": [
        "out_pl = widgets.Output()\n",
        "#out_pl.clear_output()\n",
        "#with out_pl: display(img.to_thumb(128,128))\n",
        "#out_pl"
      ],
      "metadata": {
        "id": "zV_UBcmBECyx"
      },
      "execution_count": 24,
      "outputs": []
    },
    {
      "cell_type": "code",
      "source": [
        "lbl_pred = widgets.Label()"
      ],
      "metadata": {
        "id": "z-6RcxMHEiTB"
      },
      "execution_count": 25,
      "outputs": []
    },
    {
      "cell_type": "code",
      "source": [
        "def on_click_classify(change):\n",
        "    img = PILImage.create(btn_upload.data[-1])\n",
        "    out_pl.clear_output()\n",
        "    with out_pl: display(img.to_thumb(128,128))\n",
        "    pred,pred_idx,probs = learn_inf.predict(img)\n",
        "    lbl_pred.value = f'Prediction: {pred}; Probability: {probs[pred_idx]:.04f}'\n",
        "\n",
        "btn_run.on_click(on_click_classify)"
      ],
      "metadata": {
        "id": "k3zj-4hlCyC-"
      },
      "execution_count": 26,
      "outputs": []
    },
    {
      "cell_type": "code",
      "source": [
        "VBox([widgets.Label('Select your bear!'),\n",
        "      btn_upload, btn_run, out_pl, lbl_pred])"
      ],
      "metadata": {
        "colab": {
          "base_uri": "https://localhost:8080/",
          "height": 254,
          "referenced_widgets": [
            "6305eea69dec4be684dec5603c6796c0",
            "e6bbc5a25c944b1ea5363c7a8dc1f13a",
            "8adb5f4d0f5e4c079636cfefd8fa0b3b",
            "68095baa55a7408bb963cf3f1052d401",
            "a80824a0106746168ebefe4a874d461a",
            "0b7effc0daca4a709239b1b2e17d1c2d",
            "13baf4bb89a04e4995d90699a267bc2f",
            "c7da0da2527c49f0969d0e43d115470e",
            "c9b0f30d23fa46dc83171512165a99f2",
            "e5963ef8d3514a6fa8650afd0e3f6f2b",
            "d5c643df5d034eeabe2ebaa4c91f15f6",
            "2465628d166b4bab95f0e80114dae63d",
            "c31e8fc3542b4f9197512647c4295e5e",
            "6b9a5203d5ac4d87aa6763915e13c518",
            "2e3fbde9954a4ab4ad227841d112aa12",
            "7ad16f6e900a4bffb2995db52cabe4ef"
          ]
        },
        "id": "zHwH7r8sDDmU",
        "outputId": "20c3d745-3816-4156-9868-9c3bdabf4fe6"
      },
      "execution_count": 27,
      "outputs": [
        {
          "output_type": "display_data",
          "data": {
            "text/plain": [
              "VBox(children=(Label(value='Select your bear!'), FileUpload(value={'black-bear-2.PNG': {'metadata': {'name': '…"
            ],
            "application/vnd.jupyter.widget-view+json": {
              "version_major": 2,
              "version_minor": 0,
              "model_id": "6305eea69dec4be684dec5603c6796c0"
            }
          },
          "metadata": {}
        },
        {
          "output_type": "display_data",
          "data": {
            "text/plain": [
              "<IPython.core.display.HTML object>"
            ],
            "text/html": [
              "\n",
              "<style>\n",
              "    /* Turns off some styling */\n",
              "    progress {\n",
              "        /* gets rid of default border in Firefox and Opera. */\n",
              "        border: none;\n",
              "        /* Needs to be in here for Safari polyfill so background images work as expected. */\n",
              "        background-size: auto;\n",
              "    }\n",
              "    progress:not([value]), progress:not([value])::-webkit-progress-bar {\n",
              "        background: repeating-linear-gradient(45deg, #7e7e7e, #7e7e7e 10px, #5c5c5c 10px, #5c5c5c 20px);\n",
              "    }\n",
              "    .progress-bar-interrupted, .progress-bar-interrupted::-webkit-progress-bar {\n",
              "        background: #F44336;\n",
              "    }\n",
              "</style>\n"
            ]
          },
          "metadata": {}
        },
        {
          "output_type": "display_data",
          "data": {
            "text/plain": [
              "<IPython.core.display.HTML object>"
            ],
            "text/html": []
          },
          "metadata": {}
        },
        {
          "output_type": "display_data",
          "data": {
            "text/plain": [
              "<IPython.core.display.HTML object>"
            ],
            "text/html": [
              "\n",
              "<style>\n",
              "    /* Turns off some styling */\n",
              "    progress {\n",
              "        /* gets rid of default border in Firefox and Opera. */\n",
              "        border: none;\n",
              "        /* Needs to be in here for Safari polyfill so background images work as expected. */\n",
              "        background-size: auto;\n",
              "    }\n",
              "    progress:not([value]), progress:not([value])::-webkit-progress-bar {\n",
              "        background: repeating-linear-gradient(45deg, #7e7e7e, #7e7e7e 10px, #5c5c5c 10px, #5c5c5c 20px);\n",
              "    }\n",
              "    .progress-bar-interrupted, .progress-bar-interrupted::-webkit-progress-bar {\n",
              "        background: #F44336;\n",
              "    }\n",
              "</style>\n"
            ]
          },
          "metadata": {}
        },
        {
          "output_type": "display_data",
          "data": {
            "text/plain": [
              "<IPython.core.display.HTML object>"
            ],
            "text/html": []
          },
          "metadata": {}
        },
        {
          "output_type": "display_data",
          "data": {
            "text/plain": [
              "<IPython.core.display.HTML object>"
            ],
            "text/html": [
              "\n",
              "<style>\n",
              "    /* Turns off some styling */\n",
              "    progress {\n",
              "        /* gets rid of default border in Firefox and Opera. */\n",
              "        border: none;\n",
              "        /* Needs to be in here for Safari polyfill so background images work as expected. */\n",
              "        background-size: auto;\n",
              "    }\n",
              "    progress:not([value]), progress:not([value])::-webkit-progress-bar {\n",
              "        background: repeating-linear-gradient(45deg, #7e7e7e, #7e7e7e 10px, #5c5c5c 10px, #5c5c5c 20px);\n",
              "    }\n",
              "    .progress-bar-interrupted, .progress-bar-interrupted::-webkit-progress-bar {\n",
              "        background: #F44336;\n",
              "    }\n",
              "</style>\n"
            ]
          },
          "metadata": {}
        },
        {
          "output_type": "display_data",
          "data": {
            "text/plain": [
              "<IPython.core.display.HTML object>"
            ],
            "text/html": []
          },
          "metadata": {}
        },
        {
          "output_type": "display_data",
          "data": {
            "text/plain": [
              "<IPython.core.display.HTML object>"
            ],
            "text/html": [
              "\n",
              "<style>\n",
              "    /* Turns off some styling */\n",
              "    progress {\n",
              "        /* gets rid of default border in Firefox and Opera. */\n",
              "        border: none;\n",
              "        /* Needs to be in here for Safari polyfill so background images work as expected. */\n",
              "        background-size: auto;\n",
              "    }\n",
              "    progress:not([value]), progress:not([value])::-webkit-progress-bar {\n",
              "        background: repeating-linear-gradient(45deg, #7e7e7e, #7e7e7e 10px, #5c5c5c 10px, #5c5c5c 20px);\n",
              "    }\n",
              "    .progress-bar-interrupted, .progress-bar-interrupted::-webkit-progress-bar {\n",
              "        background: #F44336;\n",
              "    }\n",
              "</style>\n"
            ]
          },
          "metadata": {}
        },
        {
          "output_type": "display_data",
          "data": {
            "text/plain": [
              "<IPython.core.display.HTML object>"
            ],
            "text/html": []
          },
          "metadata": {}
        }
      ]
    }
  ]
}